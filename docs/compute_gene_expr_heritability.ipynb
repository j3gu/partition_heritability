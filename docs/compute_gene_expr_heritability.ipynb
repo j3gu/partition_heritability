{
 "cells": [
  {
   "cell_type": "markdown",
   "metadata": {},
   "source": [
    "### Partioned Heritability for Whole Blood Gene Expression Levels "
   ]
  },
  {
   "cell_type": "markdown",
   "metadata": {},
   "source": [
    "#### Test Stratified-LDSC on a few genes using cis-eQTLs\n",
    "* The window size for cis-eQTLs is defined as SNPs that are $\\pm$1Mb away from TSS. \n",
    "* The window size for trans-eQTLs is defined as all SNPs located in different chromosomes."
   ]
  },
  {
   "cell_type": "code",
   "execution_count": 2,
   "metadata": {},
   "outputs": [],
   "source": [
    "import gzip\n",
    "import pandas as pd"
   ]
  },
  {
   "cell_type": "code",
   "execution_count": 3,
   "metadata": {},
   "outputs": [],
   "source": [
    "#build a dictionary for all the genes tested in eQTL analysis\n",
    "data_dir=\"/project2/xuanyao/jing/data/eQTLGen/\"\n",
    "d={}\n",
    "with open(data_dir+\"gene_list.txt\", 'r') as f:\n",
    "    f.next()\n",
    "    for line in f:\n",
    "        gene = line.rstrip()\n",
    "        if gene in d:\n",
    "            continue\n",
    "        else:\n",
    "            d[gene]=[]\n",
    "        "
   ]
  },
  {
   "cell_type": "code",
   "execution_count": 4,
   "metadata": {},
   "outputs": [],
   "source": [
    "#obtain the coordinate of TSS for each gene\n",
    "ref={}\n",
    "with open(data_dir+\"gencode.v19.annotation.gtf\", 'r') as f:\n",
    "    for line in f:\n",
    "        if line.startswith(\"##\"):\n",
    "             continue \n",
    "\n",
    "        words = line.rstrip().split(\"\\t\")\n",
    "        if words[2] == \"gene\":\n",
    "            name = words[8].split(\";\")[4].split(\" \")[-1].strip('\\\"')\n",
    "            if name in ref:\n",
    "                continue\n",
    "            else:\n",
    "                ref[name] = [words[0], words[3], words[4]]"
   ]
  },
  {
   "cell_type": "code",
   "execution_count": 25,
   "metadata": {},
   "outputs": [],
   "source": [
    "for gene in d:\n",
    "    if gene in ref:\n",
    "        start=int(ref[gene][1])-1000000\n",
    "        end=int(ref[gene][1])+1000000\n",
    "        if start < 0:\n",
    "            start=0\n",
    "        output = ref[gene]\n",
    "        output.append(start)\n",
    "        output.append(end)\n",
    "        d[gene]= output\n",
    "        \n",
    "#output coordinates for local regions\n",
    "out = open(data_dir+\"coordinates_for_local_regions.txt\", 'w')\n",
    "out.write(\"%s\\n\" % \"\\t\".join(['gene_name', 'chr', 'pos','start','end']))\n",
    "for gene in d:\n",
    "    if len(d[gene])>0:\n",
    "        out.write(\"%s\\n\" % \"\\t\".join([gene]+[str(i) for i in d[gene]]))\n",
    "out.close()"
   ]
  },
  {
   "cell_type": "markdown",
   "metadata": {},
   "source": [
    "#### Note:\n",
    "- There are 514 genes not found in the gencode reference list."
   ]
  },
  {
   "cell_type": "code",
   "execution_count": 36,
   "metadata": {},
   "outputs": [
    {
     "name": "stdout",
     "output_type": "stream",
     "text": [
      "514\n"
     ]
    }
   ],
   "source": [
    "gene_missing=[]\n",
    "for i in d:\n",
    "    if len(d[i])==0:\n",
    "        gene_missing.append(i)\n",
    "print(len(set(gene_missing)))"
   ]
  },
  {
   "cell_type": "markdown",
   "metadata": {},
   "source": [
    "#### Test S-LDSC on a few genes\n",
    "1. Extract lines that contain all SNPs that are being tested with the gene of interest into a new file.\n",
    "2. Filter out SNPs that are outside of 1Mb from TSS and the remaining ones are local SNPs. \n",
    "3. Compute LD scores for local SNPs??\n",
    "4. run LDSC"
   ]
  },
  {
   "cell_type": "code",
   "execution_count": 48,
   "metadata": {},
   "outputs": [
    {
     "name": "stderr",
     "output_type": "stream",
     "text": [
      "UsageError: %%bash is a cell magic, but the cell body is empty.\n"
     ]
    }
   ],
   "source": [
    "%%bash\n",
    "gunzip -c 2019-12-11-cis-eQTLsFDR-ProbeLevel-CohortInfoRemoved-BonferroniAdded.txt.gz|grep CLEC12A|wc -l"
   ]
  },
  {
   "cell_type": "code",
   "execution_count": 53,
   "metadata": {},
   "outputs": [
    {
     "name": "stdout",
     "output_type": "stream",
     "text": [
      "8\n"
     ]
    }
   ],
   "source": [
    "f_pheno=open(data_dir+ \"./CLEC12A_local_SNPs.txt\", 'w')\n",
    "with open(data_dir+\"CLEC12A_ciseQTLs.txt\") as f:\n",
    "    head=f.next().rstrip().split(\"\\t\")\n",
    "    col = head.index(\"GeneSymbol\")\n",
    "    print col\n",
    "    f_pheno.write(\"%s\\n\" % \"\\t\".join(head))\n",
    "    for line in f:\n",
    "        words = line.rstrip().split(\"\\t\")\n",
    "        snp_pos=head.index(\"SNPPos\")\n",
    "        start,end=d[\"CLEC12A\"][2:4]\n",
    "        if int(words[snp_pos]) >= start and int(words[snp_pos]) <= end:\n",
    "            f_pheno.write(line)"
   ]
  },
  {
   "cell_type": "code",
   "execution_count": null,
   "metadata": {},
   "outputs": [],
   "source": []
  },
  {
   "cell_type": "code",
   "execution_count": null,
   "metadata": {},
   "outputs": [],
   "source": [
    "python /home/jinggu/github/ldsc/make_annot.py \\\n",
    "        --gene-set-file "
   ]
  },
  {
   "cell_type": "code",
   "execution_count": 14,
   "metadata": {},
   "outputs": [
    {
     "name": "stdout",
     "output_type": "stream",
     "text": [
      "*********************************************************************\n",
      "* LD Score Regression (LDSC)\n",
      "* Version 1.0.1\n",
      "* (C) 2014-2019 Brendan Bulik-Sullivan and Hilary Finucane\n",
      "* Broad Institute of MIT and Harvard / MIT Department of Mathematics\n",
      "* GNU General Public License v3\n",
      "*********************************************************************\n",
      "Call: \n",
      "./munge_sumstats.py \\\n",
      "--out /project2/xuanyao/jing/test_ldsc//CLEC12A_ldsc \\\n",
      "--merge-alleles /project2/xuanyao/jing/test_ldsc/w_hm3.snplist \\\n",
      "--a1-inc  \\\n",
      "--N-col NrSamples \\\n",
      "--a1 AssessedAllele \\\n",
      "--a2 OtherAllele \\\n",
      "--sumstats /project2/xuanyao/jing/data/eQTLGen/CLEC12A_local_SNPs.txt \\\n",
      "--p Pvalue \n",
      "\n",
      "Interpreting column names as follows:\n",
      "NrSamples:\tSample size\n",
      "SNP:\tVariant ID (e.g., rs number)\n",
      "AssessedAllele:\tAllele 1, interpreted as ref allele for signed sumstat.\n",
      "Pvalue:\tp-Value\n",
      "OtherAllele:\tAllele 2, interpreted as non-ref allele for signed sumstat.\n",
      "\n",
      "Reading list of SNPs for allele merge from /project2/xuanyao/jing/test_ldsc/w_hm3.snplist\n",
      "Read 1217311 SNPs for allele merge.\n",
      "Reading sumstats from /project2/xuanyao/jing/data/eQTLGen/CLEC12A_local_SNPs.txt into memory 5000000 SNPs at a time.\n",
      ". done\n",
      "Read 8410 SNPs from --sumstats file.\n",
      "Removed 7469 SNPs not in --merge-alleles.\n",
      "Removed 0 SNPs with missing values.\n",
      "Removed 0 SNPs with INFO <= 0.9.\n",
      "Removed 0 SNPs with MAF <= 0.01.\n",
      "Removed 0 SNPs with out-of-bounds p-values.\n",
      "Removed 0 variants that were not SNPs or were strand-ambiguous.\n",
      "941 SNPs remain.\n",
      "Removed 0 SNPs with duplicated rs numbers (941 SNPs remain).\n",
      "Removed 23 SNPs with N < 20480.6666667 (918 SNPs remain).\n",
      "Removed 0 SNPs whose alleles did not match --merge-alleles (918 SNPs remain).\n",
      "Writing summary statistics for 1217311 SNPs (918 with nonmissing beta) to /project2/xuanyao/jing/test_ldsc//CLEC12A_ldsc.sumstats.gz.\n",
      "\n",
      "Metadata:\n",
      "Mean chi^2 = 175.4\n",
      "Lambda GC = 54.793\n",
      "Max chi^2 = 1417.522\n",
      "410 Genome-wide significant SNPs (some may have been removed by filtering).\n",
      "\n",
      "Conversion finished at Sun Jun 28 14:37:42 2020\n",
      "Total time elapsed: 18.86s\n"
     ]
    }
   ],
   "source": [
    "%%bash\n",
    "#run LDSC\n",
    "python ~/github/ldsc/munge_sumstats.py \\\n",
    "        --sumstats /project2/xuanyao/jing/data/eQTLGen/CLEC12A_local_SNPs.txt \\\n",
    "        --out /project2/xuanyao/jing/test_ldsc/CLEC12A_ldsc \\\n",
    "        --a1 AssessedAllele \\\n",
    "        --a2 OtherAllele \\\n",
    "        --p Pvalue \\\n",
    "        --a1-inc \\\n",
    "        --N-col NrSamples \\\n",
    "        --merge-alleles /project2/xuanyao/jing/test_ldsc/w_hm3.snplist \\\n",
    "\n"
   ]
  },
  {
   "cell_type": "code",
   "execution_count": 3,
   "metadata": {},
   "outputs": [
    {
     "name": "stdout",
     "output_type": "stream",
     "text": [
      "/home/jinggu/env/ldsc/bin/python\n"
     ]
    }
   ],
   "source": [
    "%%bash\n",
    "which python"
   ]
  },
  {
   "cell_type": "code",
   "execution_count": 6,
   "metadata": {},
   "outputs": [
    {
     "name": "stdout",
     "output_type": "stream",
     "text": [
      "*********************************************************************\n",
      "* LD Score Regression (LDSC)\n",
      "* Version 1.0.1\n",
      "* (C) 2014-2019 Brendan Bulik-Sullivan and Hilary Finucane\n",
      "* Broad Institute of MIT and Harvard / MIT Department of Mathematics\n",
      "* GNU General Public License v3\n",
      "*********************************************************************\n",
      "Call: \n",
      "./ldsc.py \\\n",
      "--h2 CLEC12A_ldsc.sumstats.gz \\\n",
      "--ref-ld-chr baseline. \\\n",
      "--out CLEC12A_nocoeff \\\n",
      "--overlap-annot  \\\n",
      "--frqfile-chr 1000G_frq/1000G.mac5eur. \\\n",
      "--w-ld-chr weights_hm3_no_hla/weights. \\\n",
      "--print-coefficients  \n",
      "\n",
      "Beginning analysis at Sun Jun 28 22:07:31 2020\n",
      "Reading summary statistics from CLEC12A_ldsc.sumstats.gz ...\n",
      "Read summary statistics for 918 SNPs.\n",
      "Reading reference panel LD Score from baseline.[1-22] ...\n",
      "Traceback (most recent call last):\n",
      "  File \"/home/jinggu/github/ldsc/ldsc.py\", line 644, in <module>\n",
      "    sumstats.estimate_h2(args, log)\n",
      "  File \"/home/jinggu/github/ldsc/ldscore/sumstats.py\", line 326, in estimate_h2\n",
      "    args, log, args.h2)\n",
      "  File \"/home/jinggu/github/ldsc/ldscore/sumstats.py\", line 243, in _read_ld_sumstats\n",
      "    ref_ld = _read_ref_ld(args, log)\n",
      "  File \"/home/jinggu/github/ldsc/ldscore/sumstats.py\", line 82, in _read_ref_ld\n",
      "    'reference panel LD Score', ps.ldscore_fromlist)\n",
      "  File \"/home/jinggu/github/ldsc/ldscore/sumstats.py\", line 152, in _read_chr_split_files\n",
      "    out = parsefunc(_splitp(chr_arg), _N_CHR, **kwargs)\n",
      "  File \"/home/jinggu/github/ldsc/ldscore/parse.py\", line 93, in ldscore_fromlist\n",
      "    y = ldscore(fh, num)\n",
      "  File \"/home/jinggu/github/ldsc/ldscore/parse.py\", line 137, in ldscore\n",
      "    s, compression = which_compression(first_fh)\n",
      "  File \"/home/jinggu/github/ldsc/ldscore/parse.py\", line 43, in which_compression\n",
      "    raise IOError('Could not open {F}[./gz/bz2]'.format(F=fh))\n",
      "IOError: Could not open baseline.1.l2.ldscore[./gz/bz2]\n",
      "\n",
      "Analysis finished at Sun Jun 28 22:07:32 2020\n",
      "Total time elapsed: 0.93s\n"
     ]
    },
    {
     "name": "stderr",
     "output_type": "stream",
     "text": [
      "Traceback (most recent call last):\n",
      "  File \"/home/jinggu/github/ldsc/ldsc.py\", line 644, in <module>\n",
      "    sumstats.estimate_h2(args, log)\n",
      "  File \"/home/jinggu/github/ldsc/ldscore/sumstats.py\", line 326, in estimate_h2\n",
      "    args, log, args.h2)\n",
      "  File \"/home/jinggu/github/ldsc/ldscore/sumstats.py\", line 243, in _read_ld_sumstats\n",
      "    ref_ld = _read_ref_ld(args, log)\n",
      "  File \"/home/jinggu/github/ldsc/ldscore/sumstats.py\", line 82, in _read_ref_ld\n",
      "    'reference panel LD Score', ps.ldscore_fromlist)\n",
      "  File \"/home/jinggu/github/ldsc/ldscore/sumstats.py\", line 152, in _read_chr_split_files\n",
      "    out = parsefunc(_splitp(chr_arg), _N_CHR, **kwargs)\n",
      "  File \"/home/jinggu/github/ldsc/ldscore/parse.py\", line 93, in ldscore_fromlist\n",
      "    y = ldscore(fh, num)\n",
      "  File \"/home/jinggu/github/ldsc/ldscore/parse.py\", line 137, in ldscore\n",
      "    s, compression = which_compression(first_fh)\n",
      "  File \"/home/jinggu/github/ldsc/ldscore/parse.py\", line 43, in which_compression\n",
      "    raise IOError('Could not open {F}[./gz/bz2]'.format(F=fh))\n",
      "IOError: Could not open baseline.1.l2.ldscore[./gz/bz2]\n"
     ]
    }
   ],
   "source": [
    "%%bash\n",
    "cd /project2/xuanyao/jing/test_ldsc/\n",
    "python ~/github/ldsc/ldsc.py \\\n",
    "    --h2 CLEC12A_ldsc.sumstats.gz \\\n",
    "    --ref-ld-chr baseline. \\\n",
    "    --w-ld-chr weights_hm3_no_hla/weights. \\\n",
    "    --overlap-annot \\\n",
    "    --frqfile-chr 1000G_frq/1000G.mac5eur. \\\n",
    "    --print-coefficients \\\n",
    "    --out CLEC12A_nocoeff\n",
    "    "
   ]
  },
  {
   "cell_type": "code",
   "execution_count": 16,
   "metadata": {},
   "outputs": [
    {
     "data": {
      "text/html": [
       "<div>\n",
       "<style>\n",
       "    .dataframe thead tr:only-child th {\n",
       "        text-align: right;\n",
       "    }\n",
       "\n",
       "    .dataframe thead th {\n",
       "        text-align: left;\n",
       "    }\n",
       "\n",
       "    .dataframe tbody tr th {\n",
       "        vertical-align: top;\n",
       "    }\n",
       "</style>\n",
       "<table border=\"1\" class=\"dataframe\">\n",
       "  <thead>\n",
       "    <tr style=\"text-align: right;\">\n",
       "      <th></th>\n",
       "      <th>Category</th>\n",
       "      <th>Prop._SNPs</th>\n",
       "      <th>Prop._h2</th>\n",
       "      <th>Prop._h2_std_error</th>\n",
       "      <th>Enrichment</th>\n",
       "      <th>Enrichment_std_error</th>\n",
       "      <th>Enrichment_p</th>\n",
       "      <th>Coefficient</th>\n",
       "      <th>Coefficient_std_error</th>\n",
       "      <th>Coefficient_z-score</th>\n",
       "    </tr>\n",
       "  </thead>\n",
       "  <tbody>\n",
       "    <tr>\n",
       "      <th>0</th>\n",
       "      <td>base_0</td>\n",
       "      <td>1.000000</td>\n",
       "      <td>1.000000</td>\n",
       "      <td>0.000063</td>\n",
       "      <td>1.000000</td>\n",
       "      <td>0.000063</td>\n",
       "      <td>NaN</td>\n",
       "      <td>-0.000043</td>\n",
       "      <td>0.000030</td>\n",
       "      <td>-1.445854</td>\n",
       "    </tr>\n",
       "    <tr>\n",
       "      <th>1</th>\n",
       "      <td>Coding_UCSC_0</td>\n",
       "      <td>0.014658</td>\n",
       "      <td>-0.430966</td>\n",
       "      <td>18.456212</td>\n",
       "      <td>-29.401084</td>\n",
       "      <td>1259.108691</td>\n",
       "      <td>0.550893</td>\n",
       "      <td>-0.000098</td>\n",
       "      <td>0.000091</td>\n",
       "      <td>-1.079422</td>\n",
       "    </tr>\n",
       "    <tr>\n",
       "      <th>2</th>\n",
       "      <td>Coding_UCSC.extend.500_0</td>\n",
       "      <td>0.064555</td>\n",
       "      <td>0.925546</td>\n",
       "      <td>29.571643</td>\n",
       "      <td>14.337226</td>\n",
       "      <td>458.081516</td>\n",
       "      <td>0.300544</td>\n",
       "      <td>0.000049</td>\n",
       "      <td>0.000022</td>\n",
       "      <td>2.208477</td>\n",
       "    </tr>\n",
       "    <tr>\n",
       "      <th>3</th>\n",
       "      <td>Conserved_LindbladToh_0</td>\n",
       "      <td>0.026063</td>\n",
       "      <td>0.655425</td>\n",
       "      <td>9.387973</td>\n",
       "      <td>25.148205</td>\n",
       "      <td>360.209902</td>\n",
       "      <td>0.821024</td>\n",
       "      <td>0.000047</td>\n",
       "      <td>0.000156</td>\n",
       "      <td>0.298041</td>\n",
       "    </tr>\n",
       "    <tr>\n",
       "      <th>4</th>\n",
       "      <td>Conserved_LindbladToh.extend.500_0</td>\n",
       "      <td>0.332514</td>\n",
       "      <td>-0.439661</td>\n",
       "      <td>52.695949</td>\n",
       "      <td>-1.322233</td>\n",
       "      <td>158.477369</td>\n",
       "      <td>0.749612</td>\n",
       "      <td>-0.000010</td>\n",
       "      <td>0.000015</td>\n",
       "      <td>-0.651321</td>\n",
       "    </tr>\n",
       "  </tbody>\n",
       "</table>\n",
       "</div>"
      ],
      "text/plain": [
       "                             Category  Prop._SNPs  Prop._h2  \\\n",
       "0                              base_0    1.000000  1.000000   \n",
       "1                       Coding_UCSC_0    0.014658 -0.430966   \n",
       "2            Coding_UCSC.extend.500_0    0.064555  0.925546   \n",
       "3             Conserved_LindbladToh_0    0.026063  0.655425   \n",
       "4  Conserved_LindbladToh.extend.500_0    0.332514 -0.439661   \n",
       "\n",
       "   Prop._h2_std_error  Enrichment  Enrichment_std_error  Enrichment_p  \\\n",
       "0            0.000063    1.000000              0.000063           NaN   \n",
       "1           18.456212  -29.401084           1259.108691      0.550893   \n",
       "2           29.571643   14.337226            458.081516      0.300544   \n",
       "3            9.387973   25.148205            360.209902      0.821024   \n",
       "4           52.695949   -1.322233            158.477369      0.749612   \n",
       "\n",
       "   Coefficient  Coefficient_std_error  Coefficient_z-score  \n",
       "0    -0.000043               0.000030            -1.445854  \n",
       "1    -0.000098               0.000091            -1.079422  \n",
       "2     0.000049               0.000022             2.208477  \n",
       "3     0.000047               0.000156             0.298041  \n",
       "4    -0.000010               0.000015            -0.651321  "
      ]
     },
     "execution_count": 16,
     "metadata": {},
     "output_type": "execute_result"
    }
   ],
   "source": [
    "tbl=pd.read_table(\"/project2/xuanyao/jing/test_ldsc/CLEC12A_baseline.results\")\n",
    "tbl.head()"
   ]
  },
  {
   "cell_type": "code",
   "execution_count": 12,
   "metadata": {},
   "outputs": [
    {
     "data": {
      "text/html": [
       "<div>\n",
       "<style>\n",
       "    .dataframe thead tr:only-child th {\n",
       "        text-align: right;\n",
       "    }\n",
       "\n",
       "    .dataframe thead th {\n",
       "        text-align: left;\n",
       "    }\n",
       "\n",
       "    .dataframe tbody tr th {\n",
       "        vertical-align: top;\n",
       "    }\n",
       "</style>\n",
       "<table border=\"1\" class=\"dataframe\">\n",
       "  <thead>\n",
       "    <tr style=\"text-align: right;\">\n",
       "      <th></th>\n",
       "      <th>Category</th>\n",
       "      <th>Prop._SNPs</th>\n",
       "      <th>Prop._h2</th>\n",
       "      <th>Prop._h2_std_error</th>\n",
       "      <th>Enrichment</th>\n",
       "      <th>Enrichment_std_error</th>\n",
       "      <th>Enrichment_p</th>\n",
       "      <th>Coefficient</th>\n",
       "      <th>Coefficient_std_error</th>\n",
       "      <th>Coefficient_z-score</th>\n",
       "    </tr>\n",
       "  </thead>\n",
       "  <tbody>\n",
       "    <tr>\n",
       "      <th>0</th>\n",
       "      <td>base_0</td>\n",
       "      <td>1.000000</td>\n",
       "      <td>1.000000</td>\n",
       "      <td>0.000063</td>\n",
       "      <td>1.000000</td>\n",
       "      <td>0.000063</td>\n",
       "      <td>NaN</td>\n",
       "      <td>-0.000043</td>\n",
       "      <td>0.000030</td>\n",
       "      <td>-1.445854</td>\n",
       "    </tr>\n",
       "    <tr>\n",
       "      <th>1</th>\n",
       "      <td>Coding_UCSC_0</td>\n",
       "      <td>0.014658</td>\n",
       "      <td>-0.430966</td>\n",
       "      <td>18.456212</td>\n",
       "      <td>-29.401084</td>\n",
       "      <td>1259.108691</td>\n",
       "      <td>0.550893</td>\n",
       "      <td>-0.000098</td>\n",
       "      <td>0.000091</td>\n",
       "      <td>-1.079422</td>\n",
       "    </tr>\n",
       "    <tr>\n",
       "      <th>2</th>\n",
       "      <td>Coding_UCSC.extend.500_0</td>\n",
       "      <td>0.064555</td>\n",
       "      <td>0.925546</td>\n",
       "      <td>29.571643</td>\n",
       "      <td>14.337226</td>\n",
       "      <td>458.081516</td>\n",
       "      <td>0.300544</td>\n",
       "      <td>0.000049</td>\n",
       "      <td>0.000022</td>\n",
       "      <td>2.208477</td>\n",
       "    </tr>\n",
       "    <tr>\n",
       "      <th>3</th>\n",
       "      <td>Conserved_LindbladToh_0</td>\n",
       "      <td>0.026063</td>\n",
       "      <td>0.655425</td>\n",
       "      <td>9.387973</td>\n",
       "      <td>25.148205</td>\n",
       "      <td>360.209902</td>\n",
       "      <td>0.821024</td>\n",
       "      <td>0.000047</td>\n",
       "      <td>0.000156</td>\n",
       "      <td>0.298041</td>\n",
       "    </tr>\n",
       "    <tr>\n",
       "      <th>4</th>\n",
       "      <td>Conserved_LindbladToh.extend.500_0</td>\n",
       "      <td>0.332514</td>\n",
       "      <td>-0.439661</td>\n",
       "      <td>52.695949</td>\n",
       "      <td>-1.322233</td>\n",
       "      <td>158.477369</td>\n",
       "      <td>0.749612</td>\n",
       "      <td>-0.000010</td>\n",
       "      <td>0.000015</td>\n",
       "      <td>-0.651321</td>\n",
       "    </tr>\n",
       "  </tbody>\n",
       "</table>\n",
       "</div>"
      ],
      "text/plain": [
       "                             Category  Prop._SNPs  Prop._h2  \\\n",
       "0                              base_0    1.000000  1.000000   \n",
       "1                       Coding_UCSC_0    0.014658 -0.430966   \n",
       "2            Coding_UCSC.extend.500_0    0.064555  0.925546   \n",
       "3             Conserved_LindbladToh_0    0.026063  0.655425   \n",
       "4  Conserved_LindbladToh.extend.500_0    0.332514 -0.439661   \n",
       "\n",
       "   Prop._h2_std_error  Enrichment  Enrichment_std_error  Enrichment_p  \\\n",
       "0            0.000063    1.000000              0.000063           NaN   \n",
       "1           18.456212  -29.401084           1259.108691      0.550893   \n",
       "2           29.571643   14.337226            458.081516      0.300544   \n",
       "3            9.387973   25.148205            360.209902      0.821024   \n",
       "4           52.695949   -1.322233            158.477369      0.749612   \n",
       "\n",
       "   Coefficient  Coefficient_std_error  Coefficient_z-score  \n",
       "0    -0.000043               0.000030            -1.445854  \n",
       "1    -0.000098               0.000091            -1.079422  \n",
       "2     0.000049               0.000022             2.208477  \n",
       "3     0.000047               0.000156             0.298041  \n",
       "4    -0.000010               0.000015            -0.651321  "
      ]
     },
     "execution_count": 12,
     "metadata": {},
     "output_type": "execute_result"
    }
   ],
   "source": []
  },
  {
   "cell_type": "code",
   "execution_count": null,
   "metadata": {},
   "outputs": [],
   "source": []
  }
 ],
 "metadata": {
  "kernelspec": {
   "display_name": "Python [conda env:ldsc]",
   "language": "python",
   "name": "conda-env-ldsc-py"
  },
  "language_info": {
   "codemirror_mode": {
    "name": "ipython",
    "version": 2
   },
   "file_extension": ".py",
   "mimetype": "text/x-python",
   "name": "python",
   "nbconvert_exporter": "python",
   "pygments_lexer": "ipython2",
   "version": "2.7.18"
  }
 },
 "nbformat": 4,
 "nbformat_minor": 4
}
